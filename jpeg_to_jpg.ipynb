{
 "cells": [
  {
   "cell_type": "code",
   "execution_count": null,
   "id": "1f5dd083",
   "metadata": {},
   "outputs": [
    {
     "name": "stdout",
     "output_type": "stream",
     "text": [
      "Requirement already satisfied: Pillow in /opt/anaconda3/lib/python3.12/site-packages (10.3.0)\n"
     ]
    }
   ],
   "source": [
    "#!pip install --upgrade convertapi\n",
    "#!pip install Pillow"
   ]
  },
  {
   "cell_type": "code",
   "execution_count": 20,
   "id": "4d92f377",
   "metadata": {},
   "outputs": [
    {
     "name": "stdout",
     "output_type": "stream",
     "text": [
      "發生錯誤：Result.save_files() got an unexpected keyword argument 'output_filename_pattern'\n"
     ]
    }
   ],
   "source": [
    "import convertapi\n",
    "from PIL import Image\n",
    "import os\n",
    "\n",
    "convertapi.api_credentials = 'secret_rg6Q2Lto3H2NNhFv'\n",
    "\n",
    "output_dir = '/Users/bensonchiang/Downloads'\n",
    "output_filename = 'converted_image.jpg'  # 設定你希望的輸出檔名\n",
    "output_path = os.path.join(output_dir, output_filename)\n",
    "\n",
    "try:\n",
    "    # 檢查檔案是否存在\n",
    "    input_file = '/Users/bensonchiang/Downloads/IMG_3348.jpeg'\n",
    "    if not os.path.exists(input_file):\n",
    "        raise FileNotFoundError(f\"檔案不存在：{input_file}\")\n",
    "\n",
    "    # 先使用 convertapi 進行轉換\n",
    "    convertapi.convert('jpg', {\n",
    "        'File': input_file,\n",
    "    }, from_format='jpeg').save_files(output_dir, output_filename_pattern=output_filename)\n",
    "\n",
    "    # 使用 Pillow 開啟剛轉換的檔案\n",
    "    img = Image.open(output_path)\n",
    "\n",
    "    # 再次以 'jpeg' 格式儲存，這可能會更明確地設定格式\n",
    "    img.save(output_path, 'jpeg')\n",
    "    print(f\"強制儲存為 JPG 成功：{output_path}\")\n",
    "\n",
    "except Exception as e:\n",
    "    print(f\"發生錯誤：{e}\")"
   ]
  },
  {
   "cell_type": "code",
   "execution_count": null,
   "id": "177c60e1",
   "metadata": {},
   "outputs": [],
   "source": [
    "import convertapi\n",
    "from PIL import Image\n",
    "import os\n",
    "import shutil  # 導入 shutil 模組用於檔案操作\n",
    "\n",
    "convertapi.api_credentials = 'secret_rg6Q2Lto3H2NNhFv'\n",
    "\n",
    "output_dir = '/Users/bensonchiang/Downloads'\n",
    "output_filename = '身分證(正面).jpg'\n",
    "output_path = os.path.join(output_dir, output_filename)\n",
    "input_file = '/Users/bensonchiang/Downloads/IMG_3348.jpeg'\n",
    "\n",
    "try:\n",
    "    if not os.path.exists(input_file):\n",
    "        raise FileNotFoundError(f\"檔案不存在：{input_file}\")\n",
    "\n",
    "    # 先使用 convertapi 進行轉換\n",
    "    result = convertapi.convert('jpg', {\n",
    "        'File': input_file,\n",
    "    }, from_format='jpeg')\n",
    "\n",
    "    # 將檔案儲存到指定的目錄\n",
    "    result.save_files(output_dir)\n",
    "\n",
    "    # 假設轉換後只會產生一個檔案，我們嘗試將其重新命名為我們想要的名稱\n",
    "    if result.files:\n",
    "        # result.files 是一個包含轉換後檔案資訊的列表\n",
    "        # 我們假設列表中的第一個檔案是我們需要的\n",
    "        original_saved_path = os.path.join(output_dir, result.files[0].filename)\n",
    "        shutil.move(original_saved_path, output_path)  # 使用 shutil.move 來重新命名（也可以移動）\n",
    "        print(f\"ConvertAPI 轉換成功，檔案儲存並重新命名為：{output_path}\")\n",
    "    else:\n",
    "        print(\"ConvertAPI 轉換成功，但找不到儲存的檔案。\")\n",
    "\n",
    "    # 使用 Pillow 開啟剛轉換的檔案並再次儲存\n",
    "    try:\n",
    "        img = Image.open(output_path)\n",
    "        img.save(output_path, 'jpeg')\n",
    "        print(f\"強制儲存為 JPG 成功：{output_path}\")\n",
    "    except FileNotFoundError:\n",
    "        print(f\"警告：轉換後的檔案未找到：{output_path}\")\n",
    "    except Exception as e_pillow:\n",
    "        print(f\"Pillow 處理發生錯誤：{e_pillow}\")\n",
    "\n",
    "except Exception as e:\n",
    "    print(f\"發生錯誤：{e}\")"
   ]
  },
  {
   "cell_type": "code",
   "execution_count": null,
   "id": "8de94425",
   "metadata": {},
   "outputs": [],
   "source": []
  }
 ],
 "metadata": {
  "kernelspec": {
   "display_name": "base",
   "language": "python",
   "name": "python3"
  },
  "language_info": {
   "codemirror_mode": {
    "name": "ipython",
    "version": 3
   },
   "file_extension": ".py",
   "mimetype": "text/x-python",
   "name": "python",
   "nbconvert_exporter": "python",
   "pygments_lexer": "ipython3",
   "version": "3.12.4"
  }
 },
 "nbformat": 4,
 "nbformat_minor": 5
}
